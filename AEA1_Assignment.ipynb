{
 "cells": [
  {
   "cell_type": "markdown",
   "metadata": {},
   "source": [
    "# Efficient Asset Opacity - Numerical Simulation\n",
    "\n",
    "*We want to thank Professors Burak Uras and Jan Boone for their help and availability. We also want to state that this assignment is based on the theoretical paper [Efficient Lemons](https://e6ae9e8c-a-62cb3a1a-s-sites.googlegroups.com/site/burakruras/cabinet/Efficient%20Lemons_Jan%202017.pdf?attachauth=ANoY7cqS7vUWqDjuGVZSvMaO2ZzRIz2dAxdSNH2F7L5marE2ytgiVjZHTFvYNiNTAc7QldouSvo7RK-RxYoUmT7cey8oNFy1N5uKGx0AQgVDLftmWN8Xi5KLysuXn6ZiFyax1cu2Md_D3akXdAHEIGvaa9B7WS-Zcq16XzkNJUm_Z1fxkqiAnas3tFCHErFjKVoP2taVq0BPKcYZKpVYMeQESk4qS-buIeuFmwSpYMfy7AmDXlGCq2mngPGjYAliSfoXw6gRVTm8&attredirects=0) and thus, only the graphical part was developed by us. All theoretical aspects, that we use, related to this paper were developed by its authors: [Dr Burak Uras](https://sites.google.com/site/burakruras/) and [Prof. Dr Wolf Wagner](http://wolfwagner.de/).*"
   ]
  },
  {
   "cell_type": "markdown",
   "metadata": {},
   "source": [
    "Group Members:\n",
    "\n",
    "* Ana Sofia Pessoa (211111)\n",
    "* Ricardo Gabriel  (656603)\n",
    "\n",
    "January 30, 2017"
   ]
  },
  {
   "cell_type": "markdown",
   "metadata": {},
   "source": [
    "### Index:\n",
    "\n",
    "<b id=\"i1\">[Abstract] (#b1)</b>\n",
    "\n",
    "<b id=\"i2\">[Research Questions](#b2)</b>\n",
    "\n",
    "<b id=\"i3\">[Motivation](#b3)</b>\n",
    "\n",
    "<b id=\"i4\">[Methods](#b4)</b> \n",
    "\n",
    "<b id=\"i5\">[The Model](#b5)</b> \n",
    "\n",
    "* <b id=\"i6\">[1. Social Planner](#b6)</b> \n",
    "\n",
    "* <b id=\"i8\">[2. Laisser-Faire Equilibria](#b8)</b> \n",
    "\n",
    "  * <b id=\"i9\">[2.1 Transparency](#b9)</b> \n",
    "\n",
    "  * <b id=\"i10\">[2.2 Opacity](#b10)</b> \n",
    "\n",
    "  * <b id=\"i11\">[2.3 Comparison between Transparency equilibrium and Opacity equilibrium](#b11)</b>\n",
    "\n",
    "<b id=\"i12\">[Conclusion](#b12)</b>"
   ]
  },
  {
   "cell_type": "markdown",
   "metadata": {},
   "source": [
    "## <b id=\"b1\"> Abstract</b> [↩](#i1)\n",
    "While advanced economy financial markets deepened over the last number of decades, the degree of financial opaqueness in such markets persistently rose. This work is based on a paper by [Dr Burak Uras](https://sites.google.com/site/burakruras/) and [Prof. Dr Wolf Wagner](http://wolfwagner.de/), which argues that opacity could be a desirable financial-market property for the aggregate allocation efficiency. The authors created a 3-period model where at the beginning of the time horizon a distribution of agents decide on the fraction of cash to be invested in illiquid stochastic assets and the fraction of liquid cash to be carried over. This assignment aims to discover how the equilibrium amount of cash that an agent decides to carry forward behaves under opacity and transparency and how these two equilibriums can be compared. The key result from the exercise shows that, with decentralized financial markets, asset opacity improves the consumption in a society when compared to the transparent asset market situation."
   ]
  },
  {
   "cell_type": "markdown",
   "metadata": {},
   "source": [
    "## <b id=\"b2\"> Research Questions </b> [↩](#i2)\n",
    "\n",
    "Solving for the competitive equilibrium under opacity, where there is no arbitrage possibility between asset origination and cash holding, how does $\\eta$ (cash carried over) behave and how can we compare the equilibrium $\\eta$ under opacity against the equilibrium $\\eta$ in transparent markets? What can be concluded about the implications for agents consumption?"
   ]
  },
  {
   "cell_type": "markdown",
   "metadata": {},
   "source": [
    "## <b id=\"b3\"> Motivation </b> [↩](#i3)\n",
    "\n",
    "In this assignment, we study the paper “Efficient Asset Opacity” (Updated in January to [Efficient Lemons](https://e6ae9e8c-a-62cb3a1a-s-sites.googlegroups.com/site/burakruras/cabinet/Efficient%20Lemons_Jan%202017.pdf?attachauth=ANoY7cqS7vUWqDjuGVZSvMaO2ZzRIz2dAxdSNH2F7L5marE2ytgiVjZHTFvYNiNTAc7QldouSvo7RK-RxYoUmT7cey8oNFy1N5uKGx0AQgVDLftmWN8Xi5KLysuXn6ZiFyax1cu2Md_D3akXdAHEIGvaa9B7WS-Zcq16XzkNJUm_Z1fxkqiAnas3tFCHErFjKVoP2taVq0BPKcYZKpVYMeQESk4qS-buIeuFmwSpYMfy7AmDXlGCq2mngPGjYAliSfoXw6gRVTm8&attredirects=0)). We aim to simulate Dr Burak Uras and Prof. Dr Wolf Wagner's cash-in-the-market framework and study what happens to the main variable $\\eta$ when we float other variables of the model using Python software. Thus, we expect to corroborate the key conclusions of the paper by providing graphical evidence of the same."
   ]
  },
  {
   "cell_type": "markdown",
   "metadata": {},
   "source": [
    "## <b id=\"b4\"> Methods </b> [↩](#i4)\n",
    "First, in this assignment, we have used Python 2.7.12 to graph and interpret the relationship between the expected lifetime value of originating one unit of asset and the amount of cash carried over, when all the other variables are constant, both for transparency and opacity cases Then, we have repeated the procedure for the expected lifetime return from holding onto one unit of cash until date-1. Finally, we have solved for the equilibrium when asset markets are opaque, and discussed and compared this result against the one obtained for for transparent markets. Furthermore, we have used LATEX to compute all the relevant mathematical expressions in this assignment."
   ]
  },
  {
   "cell_type": "markdown",
   "metadata": {},
   "source": [
    "# <b id=\"b5\"> The Model </b> [↩](#i5)\n",
    "The model proposed by Dr Burak Uras and Prof. Dr Wolf Wagner argues that opacity could be a desirable financial-market property for the aggregate allocation efficiency.\n",
    "The model has the characteristic features of a standard 3-period cash-in-the-market pricing framework, where there is a continuum of risk-neutral agents with one unit measure. At date-0, each person receives one unit of physical endowment - cash. At beginning of date-1, agents receive a random liquidity demand to consume (which is private information) with a probability of ½. Agents who are hit by the liquidity shock value only consumption in date-1 (impatient agents), while the remaining agents value only consumption in date-2 (patient agents).\n",
    "Thus, as of date-0 the expected lifetime utility of any agent is given by:\n",
    "\n",
    "$$E[U] = \\frac{1}{2}[c_1+c_2]$$\n",
    "\n",
    "There is a continuum of assets with one unit measure available for investment. Each agent can invest any fraction of his cash holding on date-0 into a single (agent-specific) asset among all the assets available in the economy. This assumption implies that originators hold undiversified asset portfolios. Once an asset is chosen by an agent for investment, that particular asset cannot be used for investment purposes by any other agent.\n",
    "\n",
    "For each unit of cash invested on date-0, the agent-specific asset pays R on date-2 with probability $q$. With probability $1 - q$ the payoff is zero. Realizations of productivity shocks are idiosyncratic across agents and the expected return on the investment is $qR$, with $qR > 1$. The assets that pay out on date-2 will be called high quality assets and the non-paying assets will be called low quality assets. We assume that the scrap value of all assets on date-1 is zero.\n",
    "\n",
    "**Asset Opacity:** \n",
    "\n",
    "At the beginning of date-1, information about the date-2 idiosyncratic state of the asset arrives. The general equilibrium implications of two specifications of asset information structure are investigated:\n",
    "* The case with opaque assets, where the information concerning the asset quality arrives privately only to the originators of assets; and,\n",
    "* The full information (transparent assets) case, where the asset quality information concerning all invested assets arrive publicly to all agents in the economy.\n",
    "\n",
    "**Let $\\eta$ denote the amount of cash, which the agent decides to carry forward to date-1.**\n",
    "\n"
   ]
  },
  {
   "cell_type": "markdown",
   "metadata": {},
   "source": [
    "### <b id=\"b6\"> 1. Social Planner </b> [↩](#i6)\n",
    "Let us next characterize the socially optimal portfolio allocation. Specifically, consider a benevolent social planner, who manages the aggregate stock of cash as well as the aggregate stock of assets in the economy and decides on the allocation of consumption between date-1 consumers and date-2 consumers.\n",
    "\n",
    "When solving the social planner’s program, we obtain that the optimal cash allocation on date-0 is $\\eta=0$ and that the aggregate consumption levels to be made available for date-1 and date-2 are $c_{1}=0$ and $c_{2}=qR$, respectively.\n",
    "\n",
    "\n",
    "The autarky of this economy is socially inefficient because a fraction of the invested assets which eventually might payoff are not traded away from impatient asset originators to patient agents - who value consuming on date-2 - after the arrival of liquidity shocks. A social planner, who manages the aggregate portfolio in the economy would utilize all paying assets to generate consumption on date-2 for patient consumers. Therefore, there is room for markets to improve the aggregate efficiency under autarky."
   ]
  },
  {
   "cell_type": "markdown",
   "metadata": {},
   "source": [
    "###  <b id=\"b8\"> Laisser-Faire Equilibria </b> [↩](#i8)\n",
    "In this section, date-1 asset markets are incorporated into the setup and laisser-faire allocations will be characterized. Asset markets meet after the realization of liquidity shocks and the arrival of asset-specific news about quality. Timeline-2 represents the timing of economic events:\n",
    "\n",
    "[![Timeline-1.png](https://s29.postimg.org/o2rsyjalz/Timeline_1.png)](https://postimg.org/image/xnbflezxv/)\n",
    "\n",
    "**General Equilibrium - Equilibrium Concept:**\n",
    "In the competitive equilibria, asset markets clear until there are no outstanding requests to trade further and agents maximize lifetime utility given prices. The unit price of an asset that changes hands at the asset market on date-1 is denoted by $p^j_{asset}$, where in the market specification with transparent assets $j = tr$ and in the market specification with opaque assets $j = op$.\n",
    "* In any competitive equilibrium a no-arbitrage condition should hold as of date-0 between originating assets ($E_p$) and carrying over cash ($E_s$), such that $E_p = E_s$.\n",
    "* The equilibrium is characterized by a $p^j_{asset}$, which satisfies $ < p^j_{asset} < R$.\n",
    "\n",
    "This result follows from [Allen and Gale (1994)](http://isites.harvard.edu/fs/docs/icb.topic1002789.files/Week%207%20-%20October%2013/Allen-A%20welfare%20comparison%20of%20intermediaries%20and%20financial%20markets%20in%20Germany%20and%20the%20US.pdf). Since there is only one aggregate state of the world in the current analysis, cash-in-the-market pricing binds and determines the asset prices in equilibrium. The market clearing condition for date-1 is given by $L^d_1 = L^s_1$ where $L^d_1$ is the aggregate demand for liquidity on date-1 and $L^s_1$ is the aggregate supply of liquidity on date-1.\n"
   ]
  },
  {
   "cell_type": "markdown",
   "metadata": {},
   "source": [
    "#### <b id=\"b9\"> 2.1 Transparency </b> [↩](#i9)\n",
    "\n",
    "We assume that the nancial market structure to the end of information dissemination is determined exogenously. Given this, let us suppose that all assets originated on date-0 is of transparent nature. Since with a transparent date-1 market, the quality news about each asset arrives publicly, only those assets which eventually payoff will be exchanged in the market. \n",
    "\n",
    "**Date-2**: In the last period of the economy, there are no actions to be undertaken by nancial market participants - except for that patient agents consume asset returns.\n",
    "\n",
    "**Date-1**: Given the quantity of cash and assets available on date-1, agents trade in a competitive market. Specifically, by taking the aggregate measure of cash holdings that got carried over to date-1 from date-0 $\\eta$ as given, on date-1 there will be $\\frac{\\eta}{2}$ units of cash held by patient agents that can be utilized to purchase high-quality assets from impatient agents. Since only high quality assets are traded in the market $\\frac{q(1-\\eta)}{2}$ measure of assets will be able to participate in the market exchange and demand fractions of available liquidity in return for claims against date-2 investment proceedings. Therefore, the market clearing condition on date-1 implies \n",
    "\n",
    "$p_{asset}^{tr}(1-\\eta)q\\frac{1}{2}=\\eta\\frac{1}{2}$ "
   ]
  },
  {
   "cell_type": "markdown",
   "metadata": {},
   "source": [
    "with the unit price of a high-quality asset exchanged in the market solving\n",
    "$p_{asset}^{tr}=\\frac{\\eta}{(1-\\eta)q}$\n",
    "\n",
    "An impatient asset originator earns $p_{asset}^{tr}$ on date-1 with probability q. The return to a patient high quality asset originator is R; which also gets realized with probability q.\n",
    "\n",
    "Therefore, the expected lifetime value of originating one unit of asset as of date-0 is expressed as\n",
    "\n",
    "$E_p=\\frac{1}{2}[qp_{asset}^{tr}+qR]$\n",
    "\n",
    "which after utilizing the price of an asset as a function of the available liquidity on date-1 becomes\n",
    "\n",
    "\n",
    "(12) $E_p=\\frac{1}{2}[\\frac{\\eta}{1-\\eta}+qR]$\n",
    "\n",
    "The following graph exhibits the relationship between the expected lifetime value of originating one unit of asset and the amount of cash that the agent chooses to carry over when all else is constant. From equation (12) one knows that the only part of the equation that is not fixed corresponds to the expected earnings of an impatient agent who sells one unit of a high-quality asset at date-1. As the amount of cash carried over increases, the monetary gains from selling the assets also increase, as the graph shows. Since the number of assets the agent owns is smaller as well, the unit price of a high-quality asset exchanged in the market rises."
   ]
  },
  {
   "cell_type": "code",
   "execution_count": null,
   "metadata": {
    "collapsed": true
   },
   "outputs": [],
   "source": [
    "q=0.5\n",
    "R=2.5\n",
    "def Eptr(n,q,R):\n",
    "  return (n/(2-2*n))+(q*R*1/2)\n",
    "from scipy import arange\n",
    "range_n = arange(0,1.00,0.01)\n",
    "range_Eptr = [Eptr(n,q,R) for n in range_n]\n",
    "import matplotlib.pyplot as plt\n",
    "plt.clf()\n",
    "plt.plot(range_n, range_Eptr,'-', color = 'b', linewidth = 2)\n",
    "plt.title(\"Expected Lifetime Value of Originating One Unit of Asset\",fontsize = 12)\n",
    "plt.xlabel(\"$\\eta$\",fontsize = 12)\n",
    "plt.ylabel(\"$E_p Transparency$\",fontsize = 12)\n",
    "plt.xlim(0.0,1.0)\n",
    "plt.ylim(0.0,20.0)\n",
    "plt.savefig('Transparency_Expected_lifetime_value_of_originating_one_unit_of_asset.png')"
   ]
  },
  {
   "cell_type": "markdown",
   "metadata": {},
   "source": [
    "[![Transparency_Expected_lifetime_value_of_originat.png](https://s24.postimg.org/fr1sncglh/Transparency_Expected_lifetime_value_of_originat.png)](https://postimg.org/image/7yb4vdam9/)\n",
    "\n",
    "For an agent who carries over cash to date-1, the unit return on cash equals 1 if the agent turns out to be impatient. On date-1, $\\frac{\\eta}{2}$ units of cash are available to make asset purchases, which implies that the aggregate asset payoff on date-2 for each unit of cash stored on date-0 is $\\frac{1}{2}Rq(1-\\eta)$. Therefore, for a patient agent, the unit return from carrying over one unit of cash to date-1 equals $Rq(\\frac{1-\\eta}/{\\eta})$. Hence, the expected lifetime return from holding onto one unit of cash until date-1 is expressed as\n",
    "\n",
    "\n",
    "$E_s=\\frac{1}{2}[1+\\frac{R}{p_{asset}^{tr}}]$\n",
    "\n",
    "\n",
    "which again after utilizing the date-1 market clearing gives\n",
    "\n",
    "\n",
    "(13) $E_s=\\frac{1}{2}[1+(\\frac{1-\\eta}{\\eta})qR]$\n",
    "\n",
    "The following graph exhibits the relationship between the expected lifetime return from holding onto one unit of cash until date-1. and the amount of cash that the agent chooses to carry over when all else is constant. From equation (13) one knows that the only part of the equation that is not fixed corresponds to the unit return for carrying over one unit of cash to date-1. Once again, since the number of assets the agent owns is smaller as well, the unit price of a high-quality asset exchanged in the market rises. However, as in this case we are dividing the return by the price, the overall expected lifetime return from holding onto one unit of cash until date-1 decreases with $\\eta$"
   ]
  },
  {
   "cell_type": "code",
   "execution_count": null,
   "metadata": {
    "collapsed": true
   },
   "outputs": [],
   "source": [
    "q=0.5\n",
    "R=2.5\n",
    "def Estr(n,q,R):\n",
    "  return ((0.5)+((1-n)/n)*(0.5)*(q*R))\n",
    "from scipy import arange\n",
    "range_n = arange(0.01,1.00,0.01)\n",
    "range_Estr = [Estr(n,q,R) for n in range_n]\n",
    "import matplotlib.pyplot as plt\n",
    "plt.clf()\n",
    "plt.plot(range_n, range_Estr,'-', color = 'b', linewidth = 2)\n",
    "plt.title(\"Transparency Expected Lifetime Return from Holding onto One Unit of Cash\",fontsize = 12)\n",
    "plt.xlabel(\"$\\eta$\",fontsize = 12)\n",
    "plt.ylabel(\"$E_s Transparency$\",fontsize = 12)\n",
    "plt.xlim(0.0,1.0)\n",
    "plt.ylim(0.0,20.0)\n",
    "plt.savefig('Transparency_Expected_lifetime_return_from_holding_onto_one_unit_of_cash.png')"
   ]
  },
  {
   "cell_type": "markdown",
   "metadata": {},
   "source": [
    "[![Transparency_Expected_lifetime_return_from_holdi.png](https://s30.postimg.org/do6cl3r1d/Transparency_Expected_lifetime_return_from_holdi.png)](https://postimg.org/image/5ioamy2sd/)\n",
    "\n",
    "**Date-0**: Agents decide on their portfolio allocation based on the expected returns from holding onto cash and originating an asset. In the competitive equilibrium, as pointed out before, a no-arbitrage condition between asset origination and cash holding should hold. Otherwise, holding cash or originating assets would strictly dominate. Therefore, solving (12) and (13) together ($E_{p} = E_{s}$) yields the equilibrium quantity of cash that gets carried over and the unit price of transparent assets\n",
    "$\\eta^{tr}=\\frac{1}{2}$\n",
    "$p_{asset}^{tr}=\\frac{1}{q}$\n",
    "\n",
    "When asset quality information is transparent, the date-0 portfolio ratio between assets and cash yields an expected lifetime utility for an agent is higher than the autarky value but lower under a social planner's regime. The same result can be applied to the aggregate consumption in the economy.\n",
    "\n",
    "The allocation implied by transparent markets is sub-optimal, because an opportunity to exchange on date-1 induces agents to save liquidity until date-1 to exploit the asset sales to be made by impatient agents. This channel causes the quantity of assets originated on date-0 and the implied aggregate consumption over dates 1 and 2 to contract."
   ]
  },
  {
   "cell_type": "markdown",
   "metadata": {},
   "source": [
    "#### <b id=\"b10\"> 2.2 Opacity </b> [↩](#i10)\n",
    "\n",
    "Let us next assume an aggregate financial structure, in which all assets originated on date-0 are of opaque nature. When assets are opaque both low-quality and high-quality assets are traded in the same date-1 market. Impatient agents sell low as well as high quality assets alongside patient agents selling low quality assets as long as the unit price of an asset in the market satisfies $p_{asset}^{op}>0$. The recursive solution is as follows.\n",
    "\n",
    "**Date-1**: In the competitive equilibrium agents should be indifferent to additional trades, which implies that patient asset sellers (of low quality) would have incentives to repurchase from the market. The competitive equilibrium is reached when no agent wants to trade again. In equilibrium, all impatient investors and patient investors of low quality sell regardless of the market price, whereas patient investors of high quality assets hold onto their assets. If the market price is sufficiently low, patient cash holders supply all their liquidity and patient asset sellers re-supply liquidity obtained from the asset sales to repurchase assets\n",
    "\n",
    "The aggregate supply of assets to be sold in the market is $\\frac{1}{2}(1-\\eta)(2-q)$. Hence, the market clearing is stated as\n",
    "\n",
    "\n",
    "(16) $p_{asset}^{op}(1-\\eta)(2-q)\\frac{1}{2}=\\eta\\frac{1}{2}+p_{asset}^{op}(1-\\eta)(1-q)\\frac{1}{2}$\n",
    "\n",
    "\n",
    "which solving for the unit price of an asset yields\n",
    "\n",
    "\n",
    "$p_{asset}^{op}=\\frac{\\eta}{1-\\eta}$\n",
    "\n",
    "Since fractions of high quality assets (held by impatient originators) as well as all low of quality assets (held by impatient and patient originators) are supplied in the market, the likelihood of purchasing a high quality asset in the market is $\\frac{q}{2-q}$. Therefore, the expected lifetime utility generated from investing one unit of cash into an asset on date-0 is\n",
    "$E_p=\\frac{1}{2}[p_{asset}^{op}+qR(\\frac{3-2q}{2-q})]$\n",
    "\n",
    "which together with the market clearing yields\n",
    "\n",
    "\n",
    "(17) $E_p=\\frac{1}{2}[\\frac{\\eta}{1-\\eta}+qR(\\frac{3-2q}{2-q})]$\n",
    "\n",
    "The following graph exhibits the relationship, under opacity, between the expected lifetime value of originating one unit of an asset at date-0 and the amount of cash that the agent chooses to carry over when all else is constant. From equation (17) one knows that the only part of the equation that is not fixed corresponds to the price of opaque assets. As previously explained,  when the amount of cash carried over increases, the unit price of an asset exchanged in the market rises, raising the expected lifetime utility generated from investing one unit of cash into an asset at date-0. "
   ]
  },
  {
   "cell_type": "code",
   "execution_count": null,
   "metadata": {
    "collapsed": true
   },
   "outputs": [],
   "source": [
    "q=0.5\n",
    "R=2.5\n",
    "def Epop(n,q,R):\n",
    "  return ((0.5*n)/(1-n)+0.5*q*R*((3-2*q)/(2-q)))\n",
    "from scipy import arange\n",
    "range_n = arange(0,1.00,0.01)\n",
    "range_Epop = [Epop(n,q,R) for n in range_n]\n",
    "import matplotlib.pyplot as plt\n",
    "plt.clf()\n",
    "plt.plot(range_n, range_Epop,'-', color = 'b', linewidth = 2)\n",
    "plt.title(\"Expected Lifetime Value of Originating One Unit of Asset\",fontsize = 12)\n",
    "plt.xlabel(\"$\\eta$\",fontsize = 12)\n",
    "plt.ylabel(\"$E_pOpacity$\",fontsize = 12)\n",
    "plt.xlim(0.0,1.0)\n",
    "plt.ylim(0.0,20.0)\n",
    "plt.savefig('Opacity_Expected_lifetime_value_of_originating_one_unit_of_asset.png')"
   ]
  },
  {
   "cell_type": "markdown",
   "metadata": {},
   "source": [
    "[![Opacity_Expected_lifetime_value_of_originating_o.png](https://s30.postimg.org/u87m7h0wh/Opacity_Expected_lifetime_value_of_originating_o.png)](https://postimg.org/image/lpy634udp/)\n",
    "\n",
    "The expected lifetime utility from moving forward to date-1 with one unit of cash is\n",
    "\n",
    "\n",
    "$E_s=\\frac{1}{2}[1+(\\frac{R}{p_{asset}^{op}})(\\frac{q}{2-q})]$\n",
    "\n",
    "\n",
    "which together with the market clearing implies\n",
    "\n",
    "\n",
    "(18) $E_s=\\frac{1}{2}[1+qR(\\frac{1-\\eta}{\\eta})(\\frac{1}{2-q})]$\n",
    "\n",
    "The following graph exhibits the relationship, under opacity, between the expected lifetime utility from moving forward to date-1 with one unit of cash and the amount of cash that the agent chooses to carry over when all else is constant. From equation (18) one knows that the only part of the equation that is not fixed corresponds to the inverse of the price of opaque assets as part of the expected value generated from purchasing one asset at date-1. As previously mentioned,  when the amount of cash carried over increases, the unit price of an asset exchanged in the market rises, decreasing the expected lifetime utility from moving forward to date-1 with one unit of cash.\n",
    "\n",
    "Comparing the expected returns from originating an asset with transparent assets against the expected return from asset origination with opaque assets, it is easy to note that the opacity raises the expected benefits from originating assets. Returns assets with opacity are larger compared to the case of transparency because opacity gives the originators the chance to replace a low quality asset with a high quality one in the date-1 market and equips them with an insurance to hold risky assets. This mechanism, in turn, generates general equilibrium welfare benefits from financial opaqueness.\n",
    "\n",
    "**Date-0**: Solving for the equilibrium for $\\eta$, we obtain that the date-0 equilibrium allocation of cash that gets carried over to date-1 implies that $\\eta(op)<\\frac{1}{2}$\n",
    "\n",
    "and that the equilibrium price level in the market should satisfy $p_{asset}^{op}<\\frac{1}{2-q}$\n",
    "\t\n",
    "The following graph shows the relationship between the equilibrium $\\eta$ and the probability that the probability that an asset is high quality, such that the return on the high quality asset is fixed at 5 and that the $qR>1$ restriction holds."
   ]
  },
  {
   "cell_type": "code",
   "execution_count": null,
   "metadata": {
    "collapsed": true
   },
   "outputs": [],
   "source": [
    "q=0.5\n",
    "R=2.5\n",
    "def Esop(n,q,R):\n",
    "  return (0.5+0.5*q*R*(1/(2-q))*((1-n)/n))\n",
    "from scipy import arange\n",
    "range_n = arange(0.01,1.00,0.01)\n",
    "print (range_n)\n",
    "range_Esop = [Esop(n,q,R) for n in range_n]\n",
    "print (range_Esop)\n",
    "import matplotlib.pyplot as plt\n",
    "plt.clf()\n",
    "plt.plot(range_n, range_Esop,'-', color = 'b', linewidth = 2)\n",
    "plt.title(\"Expected Lifetime Return from Holding onto One Unit of Cash \",fontsize = 12)\n",
    "plt.xlabel(\"$\\eta$\",fontsize = 12)\n",
    "plt.ylabel(\"$E_s Opacity$\",fontsize = 12)\n",
    "plt.xlim(0.0,1.0)\n",
    "plt.ylim(0.0,20.0)\n",
    "plt.savefig('Opacity_Expected_lifetime_return_from_holding_onto_one_unit_of_cash.png')"
   ]
  },
  {
   "cell_type": "markdown",
   "metadata": {},
   "source": [
    "[![Opacity_Expected_lifetime_return_from_holding_on.png](https://s27.postimg.org/6ii1qciab/Opacity_Expected_lifetime_return_from_holding_on.png)](https://postimg.org/image/x3kklwknj/)\n",
    "\n",
    "The asset opacity improves the expected lifetime utility of an agent and the aggregate consumption relative to the values under transparency. The intuition for this result, as we highlighted above, is understood with a comparison of the expected asset returns with transparency and with opacity. With cash-in-the-market pricing, asset opacity gives patient asset originators who are hit with a low quality asset shock a second chance for obtaining a good quality asset (originally held by an impatient agent), raises the expected asset returns and hence stimulates the asset origination on date-0."
   ]
  },
  {
   "cell_type": "markdown",
   "metadata": {},
   "source": [
    "#### <b id=\"b11\"> 2.3 Comparison between Transparency equilibrium and Opacity equilibrium </b> [↩](#i11)\n",
    "\n",
    "When asset markets are of opaque nature, the economy carries over less liquidity from date-0 to date-1 compared to the case of transparent markets, as the following graphs show. As previously explained, returns on assets with opacity are larger compared to the case of transparency because opacity gives the originators the chance to replace a low quality asset with a high quality one in the date-1 market. Therefore, the amount of cash carried over is lower since, opacity equips agents with an insurance to hold risky assets.\n",
    "\n",
    "The following graphs represent relationship between the equilibrium amount of cash carried over and the probability that the asset is high quality, both for opaque and transparent asset markets. We have defined R as 2, 5 and 10, but independently of its value, when the asset markets are of opaque nature, more cash is carried over from date-0 to date-1 compared to the case of transparent markets."
   ]
  },
  {
   "cell_type": "code",
   "execution_count": null,
   "metadata": {
    "collapsed": true
   },
   "outputs": [],
   "source": [
    "vectorEtaOpacity = []\n",
    "vectorq = []\n",
    "vectorEtaTransparency = []\n",
    "R=5\n",
    "from scipy import arange\n",
    "import math\n",
    "range_q = arange(0,1.00,0.01)\n",
    "def EtaOpacity(q,R):\n",
    "  return (2*q**2*R-q**2*R*((4*q**4*R**2-12*q**3*R**2-4*q**3*R+9*q**2*R**2+10*q**2*R+q**2-4*q*R-4*q+4)/((q-2)**2*(q*R-1)**2))**(0.5)+2*q*R*((4*q**4*R**2-12*q**3*R**2-4*q**3*R+9*q**2*R**2+10*q**2*R+q**2-4*q*R-4*q+4)/((q-2)**2*(q*R-1)**2))**(0.5)+q*((4*q**4*R**2-12*q**3*R**2-4*q**3*R+9*q**2*R**2+10*q**2*R+q**2-4*q*R-4*q+4)/((q-2)**2*(q*R-1)**2))**(0.5)-2*((4*q**4*R**2-12*q**3*R**2-4*q**3*R+9*q**2*R**2+10*q**2*R+q**2-4*q*R-4*q+4)/((q-2)**2*(q*R-1)**2))**(0.5)-5*q*R-q+2)/(4*(q-2)*(q*R-1))\n",
    "for q in range_q:\n",
    "  if q*R<=1:\n",
    "   pass\n",
    "  else:\n",
    "   x= EtaOpacity(q,R)\n",
    "   vectorEtaOpacity.append(x)\n",
    "   vectorq.append(q)\n",
    "   vectorEtaTransparency.append(0.5)\n",
    "import matplotlib.pyplot as plt\n",
    "plt.clf()\n",
    "plt.plot(vectorq, vectorEtaOpacity,'-', color = 'b', linewidth = 2)\n",
    "plt.plot(vectorq, vectorEtaTransparency, '-', color = 'r', linewidth =2)\n",
    "plt.title(\"Comparison\",fontsize = 14)\n",
    "plt.xlabel(\"$q$\",fontsize = 12)\n",
    "plt.ylabel(\"Eta Opacity and Transparency\",fontsize = 12)\n",
    "plt.xlim(0.0,1.0)\n",
    "plt.ylim(0.0,1.0)\n",
    "plt.annotate('$\\eta$ Transparency', xy=(0.5,0.5),  xycoords='data',\n",
    "              xytext=(-60, 60), textcoords='offset points', size = 10,\n",
    "              arrowprops=dict(arrowstyle=\"->\", linewidth = 2,\n",
    "                              connectionstyle=\"arc3,rad=.2\"),\n",
    "              )\n",
    "plt.annotate('$\\eta$ Opacity', xy=(0.7,EtaOpacity(0.7,R)),  xycoords='data',\n",
    "              xytext=(-60,60), textcoords='offset points', size = 10,\n",
    "              arrowprops=dict(arrowstyle=\"->\", linewidth = 2,\n",
    "                              connectionstyle=\"arc3,rad=.2\"),\n",
    "              )\n",
    "plt.savefig('EtaOpacityandTransparencyR=5.png')"
   ]
  },
  {
   "cell_type": "markdown",
   "metadata": {},
   "source": [
    "[![EtaOpacityandTransparencyR=5.png](https://s27.postimg.org/fqvvbfhbn/Eta_Opacityand_Transparency_R_5.png)](https://postimg.org/image/r38gt7q0f/)\n"
   ]
  },
  {
   "cell_type": "code",
   "execution_count": null,
   "metadata": {
    "collapsed": true
   },
   "outputs": [],
   "source": [
    "vectorEtaOpacity = []\n",
    "vectorq = []\n",
    "vectorEtaTransparency = []\n",
    "R=2\n",
    "from scipy import arange\n",
    "import math\n",
    "range_q = arange(0,1.00,0.01)\n",
    "def EtaOpacity(q,R):\n",
    "  return (2*q**2*R-q**2*R*((4*q**4*R**2-12*q**3*R**2-4*q**3*R+9*q**2*R**2+10*q**2*R+q**2-4*q*R-4*q+4)/((q-2)**2*(q*R-1)**2))**(0.5)+2*q*R*((4*q**4*R**2-12*q**3*R**2-4*q**3*R+9*q**2*R**2+10*q**2*R+q**2-4*q*R-4*q+4)/((q-2)**2*(q*R-1)**2))**(0.5)+q*((4*q**4*R**2-12*q**3*R**2-4*q**3*R+9*q**2*R**2+10*q**2*R+q**2-4*q*R-4*q+4)/((q-2)**2*(q*R-1)**2))**(0.5)-2*((4*q**4*R**2-12*q**3*R**2-4*q**3*R+9*q**2*R**2+10*q**2*R+q**2-4*q*R-4*q+4)/((q-2)**2*(q*R-1)**2))**(0.5)-5*q*R-q+2)/(4*(q-2)*(q*R-1))\n",
    "for q in range_q:\n",
    "  if q*R<=1:\n",
    "   pass\n",
    "  else:\n",
    "   x= EtaOpacity(q,R)\n",
    "   vectorEtaOpacity.append(x)\n",
    "   vectorq.append(q)\n",
    "   vectorEtaTransparency.append(0.5)\n",
    "import matplotlib.pyplot as plt\n",
    "plt.clf()\n",
    "plt.plot(vectorq, vectorEtaOpacity,'-', color = 'b', linewidth = 2)\n",
    "plt.plot(vectorq, vectorEtaTransparency, '-', color = 'r', linewidth =2)\n",
    "plt.title(\"Eta Equilibrium\",fontsize = 14)\n",
    "plt.xlabel(\"$q$\",fontsize = 14)\n",
    "plt.ylabel(\"$Eta Opacity and Transparency$\",fontsize = 14)\n",
    "plt.xlim(0.0,1.0)\n",
    "plt.ylim(0.0,1.0)\n",
    "plt.annotate('$\\eta$ Transparency', xy=(0.5,0.5),  xycoords='data',\n",
    "              xytext=(-60, 60), textcoords='offset points', size = 10,\n",
    "              arrowprops=dict(arrowstyle=\"->\", linewidth = 2,\n",
    "                              connectionstyle=\"arc3,rad=.2\"),\n",
    "              )\n",
    "plt.annotate('$\\eta$ Opacity', xy=(0.7,EtaOpacity(0.7,R)),  xycoords='data',\n",
    "              xytext=(-60,60), textcoords='offset points', size = 10,\n",
    "              arrowprops=dict(arrowstyle=\"->\", linewidth = 2,\n",
    "                              connectionstyle=\"arc3,rad=.2\"),\n",
    "              )\n",
    "plt.savefig('EtaOpacityandTransparencyR=2.png')"
   ]
  },
  {
   "cell_type": "markdown",
   "metadata": {},
   "source": [
    "[![EtaOpacityandTransparencyR=2.png](https://s23.postimg.org/bfyvk6pyj/Eta_Opacityand_Transparency_R_2.png)](https://postimg.org/image/tvjchl42v/)\n"
   ]
  },
  {
   "cell_type": "code",
   "execution_count": null,
   "metadata": {
    "collapsed": true
   },
   "outputs": [],
   "source": [
    "vectorEtaOpacity = []\n",
    "vectorq = []\n",
    "vectorEtaTransparency = []\n",
    "R=15\n",
    "from scipy import arange\n",
    "import math\n",
    "range_q = arange(0,1.00,0.01)\n",
    "def EtaOpacity(q,R):\n",
    "  return (2*q**2*R-q**2*R*((4*q**4*R**2-12*q**3*R**2-4*q**3*R+9*q**2*R**2+10*q**2*R+q**2-4*q*R-4*q+4)/((q-2)**2*(q*R-1)**2))**(0.5)+2*q*R*((4*q**4*R**2-12*q**3*R**2-4*q**3*R+9*q**2*R**2+10*q**2*R+q**2-4*q*R-4*q+4)/((q-2)**2*(q*R-1)**2))**(0.5)+q*((4*q**4*R**2-12*q**3*R**2-4*q**3*R+9*q**2*R**2+10*q**2*R+q**2-4*q*R-4*q+4)/((q-2)**2*(q*R-1)**2))**(0.5)-2*((4*q**4*R**2-12*q**3*R**2-4*q**3*R+9*q**2*R**2+10*q**2*R+q**2-4*q*R-4*q+4)/((q-2)**2*(q*R-1)**2))**(0.5)-5*q*R-q+2)/(4*(q-2)*(q*R-1))\n",
    "for q in range_q:\n",
    "  if q*R<=1:\n",
    "   pass\n",
    "  else:\n",
    "   x= EtaOpacity(q,R)\n",
    "   vectorEtaOpacity.append(x)\n",
    "   vectorq.append(q)\n",
    "   vectorEtaTransparency.append(0.5)\n",
    "import matplotlib.pyplot as plt\n",
    "plt.clf()\n",
    "plt.plot(vectorq, vectorEtaOpacity,'-', color = 'b', linewidth = 2)\n",
    "plt.plot(vectorq, vectorEtaTransparency, '-', color = 'r', linewidth =2)\n",
    "plt.title(\"Comparison\",fontsize = 14)\n",
    "plt.xlabel(\"$q$\",fontsize = 14)\n",
    "plt.ylabel(\"Eta Opacity and Transparency\",fontsize = 14)\n",
    "plt.xlim(0.0,1.0)\n",
    "plt.ylim(0.2,0.6)\n",
    "plt.annotate('$\\eta$ Transparency', xy=(0.5,0.5),  xycoords='data',\n",
    "              xytext=(-60, 60), textcoords='offset points', size = 10,\n",
    "              arrowprops=dict(arrowstyle=\"->\", linewidth = 2,\n",
    "                              connectionstyle=\"arc3,rad=.2\"),\n",
    "              )\n",
    "plt.annotate('$\\eta$ Opacity', xy=(0.7,EtaOpacity(0.7,R)),  xycoords='data',\n",
    "              xytext=(-60,60), textcoords='offset points', size = 10,\n",
    "              arrowprops=dict(arrowstyle=\"->\", linewidth = 2,\n",
    "                              connectionstyle=\"arc3,rad=.2\"),\n",
    "              )\n",
    "plt.savefig('EtaOpacityandTransparencyR=15.png')"
   ]
  },
  {
   "cell_type": "markdown",
   "metadata": {},
   "source": [
    "[![EtaOpacityandTransparencyR=15.png](https://s29.postimg.org/5g43m2yiv/Eta_Opacityand_Transparency_R_15.png)](https://postimg.org/image/q08xkke9v/)\n"
   ]
  },
  {
   "cell_type": "markdown",
   "metadata": {},
   "source": [
    "# <b id=\"b12\"> Conclusion </b> [↩](#i12)\n",
    "\n",
    "In this assignment, we were able to understand the relationship between the different variables from this model, as well as to find out how the equilibrium cash carried over varies relative to q, for different values of R. The key result from the exercise comes from the comparison between transparency equilibrium $\\eta$ and opacity equilibrium $\\eta$. It showed that with decentralized financial markets asset opacity improves the aggregate consumption in a society. The intuition for this result is that when asset quality is transparent, asset prices at the interim date financial market are high and cash-in-the-market pricing implies that a larger stock of cash should be saved to compensate the early consumers. The larger the amount of cash carried over, the higher the redistributions from patient to impatient consumers, and the further away is the aggregate consumption of the economy from a social planner’s optimum. Therefore, asset opacity helps to restore a socially desirable level of aggregate consumption."
   ]
  }
 ],
 "metadata": {
  "anaconda-cloud": {},
  "kernelspec": {
   "display_name": "Python [Root]",
   "language": "python",
   "name": "Python [Root]"
  },
  "language_info": {
   "codemirror_mode": {
    "name": "ipython",
    "version": 2
   },
   "file_extension": ".py",
   "mimetype": "text/x-python",
   "name": "python",
   "nbconvert_exporter": "python",
   "pygments_lexer": "ipython2",
   "version": "2.7.12"
  }
 },
 "nbformat": 4,
 "nbformat_minor": 1
}
